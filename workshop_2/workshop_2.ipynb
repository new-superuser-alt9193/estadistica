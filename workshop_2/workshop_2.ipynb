{
 "cells": [
  {
   "cell_type": "markdown",
   "metadata": {},
   "source": [
    "Fernando Jimenez Pereyra A01734609\n",
    "12 de agosoto del 2022"
   ]
  },
  {
   "cell_type": "markdown",
   "metadata": {},
   "source": [
    "2.2 Monte Carlo simulation"
   ]
  },
  {
   "cell_type": "code",
   "execution_count": 151,
   "metadata": {},
   "outputs": [],
   "source": [
    "from symbulate import *\n",
    "#'exec(%matplotlib inline)' \n",
    "import matplotlib\n",
    "\n",
    "import matplotlib.pyplot as plt"
   ]
  },
  {
   "cell_type": "markdown",
   "metadata": {},
   "source": [
    "2.2.1 Simulating numbers with the UNIFORM probability distribution"
   ]
  },
  {
   "cell_type": "code",
   "execution_count": 152,
   "metadata": {},
   "outputs": [
    {
     "data": {
      "image/png": "[encoded data removed]",
      "text/plain": [
       "<Figure size 432x288 with 1 Axes>"
      ]
     },
     "metadata": {
      "needs_background": "light"
     },
     "output_type": "display_data"
    }
   ],
   "source": [
    "# clear the plot space:\n",
    "plt.clf()\n",
    "# Define the probability type of function as uniform (probability space)\n",
    "P = Uniform(0,40)\n",
    "# Define X as a random variable of the type P (uniform)\n",
    "X =RV(P)\n",
    "# Simulate the values of X and save the in the x array: \n",
    "x=X.sim(10000)\n",
    "x.plot()\n",
    "plt.show()"
   ]
  },
  {
   "cell_type": "markdown",
   "metadata": {},
   "source": [
    "2.2.2 CHALLENGE\n",
    "\n",
    "CALCULATE THE MEAN AND STANDARD DEVIATION OF THIS SIMULATED UNIFORM x VARIABLE. HOW CLOSE WERE THESE MEAN AND STANDARD DEVIATION FROM THE THEORETICAL MEAN AND STANDARD DEVIATION?\n",
    "\n",
    "INTERPET THE ABOVE HISTOGRAM. WHAT DO YOU SEE? EXPLAIN WITH YOUR WORDS."
   ]
  },
  {
   "cell_type": "code",
   "execution_count": 153,
   "metadata": {},
   "outputs": [
    {
     "name": "stdout",
     "output_type": "stream",
     "text": [
      "19.861466790745\n",
      "11.59036393934643\n"
     ]
    }
   ],
   "source": [
    "print(x.mean())\n",
    "print(x.std())"
   ]
  },
  {
   "cell_type": "markdown",
   "metadata": {},
   "source": [
    "LA SIMULACION PRESENTA UNA DISTRIBUCION QUE SE PODRIA CONSIDERAR UNIFORME, YA QUE EXISTEN LAS MISMAS PROBABILIDADES EN CUALQUIER PUNTO."
   ]
  },
  {
   "cell_type": "code",
   "execution_count": 154,
   "metadata": {},
   "outputs": [],
   "source": [
    "# Define the probability space as a vector of 25 uniform random numbers:\n",
    "P = Uniform(0,40) ** 25\n",
    "# Define XVECTOR as a vector of random variables with 25 random values \n",
    "XVECTOR =RV(P)\n",
    "# Simulate 10,000 vectors to get a matrix  \n",
    "xmatrix=XVECTOR.sim(10000)"
   ]
  },
  {
   "cell_type": "code",
   "execution_count": 155,
   "metadata": {},
   "outputs": [
    {
     "data": {
      "text/html": [
       "\n",
       "    <table>\n",
       "      <thead>\n",
       "        <th width=\"10%\">Index</th>\n",
       "        <th width=\"90%\">Result</th>\n",
       "      </thead>\n",
       "      <tbody>\n",
       "        \n",
       "        <tr>\n",
       "          <td>0</td><td>(35.38046064193361, 35.68439539209332, 19.306681810461953, 0.46625819982613503, 16.53427920160253, ....</td>\n",
       "        </tr>\n",
       "        \n",
       "        <tr>\n",
       "          <td>1</td><td>(5.052438479741124, 33.6502459333165, 34.76158118850619, 32.857882762333766, 2.561107301567578, ...,...</td>\n",
       "        </tr>\n",
       "        \n",
       "        <tr>\n",
       "          <td>2</td><td>(28.300337987834666, 36.04330964160311, 34.97597776274083, 14.450280100230785, 22.662825970055536, ....</td>\n",
       "        </tr>\n",
       "        \n",
       "        <tr>\n",
       "          <td>3</td><td>(2.154907360467826, 10.89289259033686, 24.238701704169145, 4.674380564973584, 18.92462810009695, ......</td>\n",
       "        </tr>\n",
       "        \n",
       "        <tr>\n",
       "          <td>4</td><td>(27.68020796485368, 22.33423406410299, 22.09074647946675, 26.588852267602757, 12.781588358645251, .....</td>\n",
       "        </tr>\n",
       "        \n",
       "        <tr>\n",
       "          <td>5</td><td>(23.633667862293294, 36.27867170684296, 7.615139435667526, 1.4461329599376915, 7.458135619720085, .....</td>\n",
       "        </tr>\n",
       "        \n",
       "        <tr>\n",
       "          <td>6</td><td>(16.176606912421185, 29.68849778340605, 30.714277929319383, 23.746276597127938, 26.934320522731866, ...</td>\n",
       "        </tr>\n",
       "        \n",
       "        <tr>\n",
       "          <td>7</td><td>(29.944088794333176, 5.75231534781675, 29.53097863914145, 18.0006561857028, 15.521660900946719, ...,...</td>\n",
       "        </tr>\n",
       "        \n",
       "        <tr>\n",
       "          <td>8</td><td>(19.597448833592658, 17.40280298014354, 2.7089488789855842, 5.338617401546726, 36.08352143862359, .....</td>\n",
       "        </tr>\n",
       "        <tr><td>...</td><td>...</td></tr>\n",
       "        <tr>\n",
       "          <td>9999</td><td>(17.82875467994653, 24.0198319665533, 10.639776783520212, 20.937944360436553, 15.709554383844937, .....</td>\n",
       "        </tr>\n",
       "        \n",
       "      </tbody>\n",
       "    </table>\n",
       "        "
      ],
      "text/plain": [
       "Index Result\n",
       "0     (35.38046064193361, 35.68439539209332, 19.306681810461953, 0.46625819982613503, 16.53427920160253, ..., 39.211761884683746)\n",
       "1     (5.052438479741124, 33.6502459333165, 34.76158118850619, 32.857882762333766, 2.561107301567578, ..., 5.273156617192587)\n",
       "2     (28.300337987834666, 36.04330964160311, 34.97597776274083, 14.450280100230785, 22.662825970055536, ..., 29.690838550804397)\n",
       "3     (2.154907360467826, 10.89289259033686, 24.238701704169145, 4.674380564973584, 18.92462810009695, ..., 0.5999831044608506)\n",
       "4     (27.68020796485368, 22.33423406410299, 22.09074647946675, 26.588852267602757, 12.781588358645251, ..., 0.4841806443290775)\n",
       "5     (23.633667862293294, 36.27867170684296, 7.615139435667526, 1.4461329599376915, 7.458135619720085, ..., 16.328894794304478)\n",
       "6     (16.176606912421185, 29.68849778340605, 30.714277929319383, 23.746276597127938, 26.934320522731866, ..., 35.045475169523804)\n",
       "7     (29.944088794333176, 5.75231534781675, 29.53097863914145, 18.0006561857028, 15.521660900946719, ..., 4.143968373788698)\n",
       "8     (19.597448833592658, 17.40280298014354, 2.7089488789855842, 5.338617401546726, 36.08352143862359, ..., 10.441117734499095)\n",
       "....  ..........................................................................................................................\n",
       "9999  (17.82875467994653, 24.0198319665533, 10.639776783520212, 20.937944360436553, 15.709554383844937, ..., 14.841028559123739)"
      ]
     },
     "execution_count": 155,
     "metadata": {},
     "output_type": "execute_result"
    }
   ],
   "source": [
    "xmatrix"
   ]
  },
  {
   "cell_type": "code",
   "execution_count": 156,
   "metadata": {},
   "outputs": [
    {
     "data": {
      "text/html": [
       "\n",
       "    <table>\n",
       "      <thead>\n",
       "        <th width=\"10%\">Index</th>\n",
       "        <th width=\"90%\">Result</th>\n",
       "      </thead>\n",
       "      <tbody>\n",
       "        \n",
       "        <tr>\n",
       "          <td>0</td><td>18.08011490606447</td>\n",
       "        </tr>\n",
       "        \n",
       "        <tr>\n",
       "          <td>1</td><td>19.763041374399005</td>\n",
       "        </tr>\n",
       "        \n",
       "        <tr>\n",
       "          <td>2</td><td>18.765918930460888</td>\n",
       "        </tr>\n",
       "        \n",
       "        <tr>\n",
       "          <td>3</td><td>21.226663238010577</td>\n",
       "        </tr>\n",
       "        \n",
       "        <tr>\n",
       "          <td>4</td><td>21.33222378244595</td>\n",
       "        </tr>\n",
       "        \n",
       "        <tr>\n",
       "          <td>5</td><td>20.955607204843062</td>\n",
       "        </tr>\n",
       "        \n",
       "        <tr>\n",
       "          <td>6</td><td>19.99204199974984</td>\n",
       "        </tr>\n",
       "        \n",
       "        <tr>\n",
       "          <td>7</td><td>22.713899284316458</td>\n",
       "        </tr>\n",
       "        \n",
       "        <tr>\n",
       "          <td>8</td><td>20.84469258634786</td>\n",
       "        </tr>\n",
       "        <tr><td>...</td><td>...</td></tr>\n",
       "        <tr>\n",
       "          <td>9999</td><td>22.003387176349126</td>\n",
       "        </tr>\n",
       "        \n",
       "      </tbody>\n",
       "    </table>\n",
       "        "
      ],
      "text/plain": [
       "Index Result\n",
       "0     18.08011490606447\n",
       "1     19.763041374399005\n",
       "2     18.765918930460888\n",
       "3     21.226663238010577\n",
       "4     21.33222378244595\n",
       "5     20.955607204843062\n",
       "6     19.99204199974984\n",
       "7     22.713899284316458\n",
       "8     20.84469258634786\n",
       "....  ..................\n",
       "9999  22.003387176349126"
      ]
     },
     "execution_count": 156,
     "metadata": {},
     "output_type": "execute_result"
    }
   ],
   "source": [
    "# The 2nd parameter is the mathematical operation applied to each row of the random vector\n",
    "# Simulate 10,000 means of each random vector of 25 uniform distributed numbers: \n",
    "xmean = RV(P,mean).sim(10000)\n",
    "xmean"
   ]
  },
  {
   "cell_type": "code",
   "execution_count": 157,
   "metadata": {},
   "outputs": [
    {
     "data": {
      "image/png": "[encoded data removed]",
      "text/plain": [
       "<Figure size 432x288 with 1 Axes>"
      ]
     },
     "metadata": {
      "needs_background": "light"
     },
     "output_type": "display_data"
    }
   ],
   "source": [
    "plt.clf()\n",
    "xmean.plot()\n",
    "plt.show()"
   ]
  },
  {
   "cell_type": "markdown",
   "metadata": {},
   "source": [
    "2.2.3 CHALLENGE\n",
    "CALCULATE THE MEAN AND STANDARD DEVIATION OF THE xmean VARIABLE. HOW SIMILAR OR DIFFERENT ARE THESE VALUES FROM THE MEAN AND STANDARD DEVIATION OF x?\n",
    "\n",
    "WHAT DO YOU SEE IN THE ABOVE HISTOGRAM? DOES THE HISTOGRAM OF SAMPLE MEANS OF UNIFORM RANDOM VARIABLE LOOK LIKE A UNIFORM DISTRIBUTED VARIABLE? DO YOU SEE A LOGIC? BRIEFLY EXPLAIN WHAT YOU THINK."
   ]
  },
  {
   "cell_type": "code",
   "execution_count": 158,
   "metadata": {},
   "outputs": [
    {
     "name": "stdout",
     "output_type": "stream",
     "text": [
      "19.959592847649073\n",
      "2.3200802557627873\n"
     ]
    }
   ],
   "source": [
    "print(xmean.mean())\n",
    "print(xmean.std())"
   ]
  },
  {
   "cell_type": "markdown",
   "metadata": {},
   "source": [
    "LA SIMULACION PRESENTA UNA DISTRIBUCION CON FORMA CARACTERISTICA DE CAMPANA, EN DONDE LAS MAYORES INCIDENCIA SE PRESENTAN EN EL PUNTO QUE CORRESPONDE A LA MEDIA +- LA DESVIACION ESTANDAR."
   ]
  },
  {
   "cell_type": "code",
   "execution_count": 159,
   "metadata": {},
   "outputs": [
    {
     "data": {
      "image/png": "[encoded data removed]",
      "text/plain": [
       "<Figure size 432x288 with 1 Axes>"
      ]
     },
     "metadata": {
      "needs_background": "light"
     },
     "output_type": "display_data"
    }
   ],
   "source": [
    "plt.clf()\n",
    "xmean.plot()\n",
    "x.plot()\n",
    "plt.show()"
   ]
  },
  {
   "cell_type": "markdown",
   "metadata": {},
   "source": [
    "2.2.4 Simulating numbers with the NORMAL probability distribution"
   ]
  },
  {
   "cell_type": "code",
   "execution_count": 160,
   "metadata": {},
   "outputs": [
    {
     "data": {
      "image/png": "[encoded data removed]",
      "text/plain": [
       "<Figure size 432x288 with 1 Axes>"
      ]
     },
     "metadata": {
      "needs_background": "light"
     },
     "output_type": "display_data"
    }
   ],
   "source": [
    "# clear the plot space:\n",
    "plt.clf()\n",
    "# Define the probability type of function as uniform (probability space)\n",
    "P = Normal(mean=20, sd=10)\n",
    "# Define Y as a random variable of the type P (normal)\n",
    "Y =RV(P)\n",
    "# Simulate 10,000 values of Y and save the in the x array: \n",
    "y=Y.sim(10000)\n",
    "y.plot()\n",
    "plt.show()"
   ]
  },
  {
   "cell_type": "markdown",
   "metadata": {},
   "source": [
    "2.2.5 CHALLENGE\n",
    "CALCULATE THE MEAN AND STANDARD DEVIATION OF THIS RANDOM y VARIABLE. HOW SIMILAR OR DIFFERENT ARE THESE VALUES FROM THE MEAN AND STANDARD DEVIATION OF THE THEORETICAL MEAN (20) AND THE THEORETICAL STANDARD DEVIATION (10)?\n",
    "B)WHAT DO YOU SEE? INTERPRET THE HISTOGRAM WITH YOUR WORDS."
   ]
  },
  {
   "cell_type": "code",
   "execution_count": 161,
   "metadata": {},
   "outputs": [
    {
     "name": "stdout",
     "output_type": "stream",
     "text": [
      "20.035026149757044\n",
      "10.010321562222959\n"
     ]
    }
   ],
   "source": [
    "print(y.mean())\n",
    "print(y.std())"
   ]
  },
  {
   "cell_type": "markdown",
   "metadata": {},
   "source": [
    "LA MEDIA Y DESVIACION ESTANDAR GENERADAS POR LA SIMULACION SON PRACTICAMENTE IGUALES A LOS DATOS DE ENTRADA. EN EL HISTOGRAMA SE PUEDE OBSERVAR UNA ACUMULACION EN EL PUNTO CORRESPONDIENTE A LA MEDIA"
   ]
  },
  {
   "cell_type": "code",
   "execution_count": 162,
   "metadata": {},
   "outputs": [],
   "source": [
    "# Define the probability space P as a vector of 25 normal random numbers:\n",
    "P = Normal(mean=20, sd=10) ** 25\n",
    "# Define RANDOMVECTOR as a vector of 25 random variables in the Probability space P \n",
    "RANDOMVECTOR = RV(P)\n",
    "# Simulate 10,000 random vectors with this distribution and save the in ymatrix: \n",
    "ymatrix=RANDOMVECTOR.sim(10000)"
   ]
  },
  {
   "cell_type": "code",
   "execution_count": 163,
   "metadata": {},
   "outputs": [
    {
     "data": {
      "text/html": [
       "\n",
       "    <table>\n",
       "      <thead>\n",
       "        <th width=\"10%\">Index</th>\n",
       "        <th width=\"90%\">Result</th>\n",
       "      </thead>\n",
       "      <tbody>\n",
       "        \n",
       "        <tr>\n",
       "          <td>0</td><td>(10.636449668373583, 14.93939579623515, 22.951904277564573, 10.243538257855114, 9.919343228871494, ....</td>\n",
       "        </tr>\n",
       "        \n",
       "        <tr>\n",
       "          <td>1</td><td>(13.336528761041698, 12.510044701481426, 29.34642979569727, 26.28973080930574, 1.3727195823864555, ....</td>\n",
       "        </tr>\n",
       "        \n",
       "        <tr>\n",
       "          <td>2</td><td>(33.89520024031242, 26.122743200883576, 5.764121648364874, 25.062150923181306, 33.66264911311599, .....</td>\n",
       "        </tr>\n",
       "        \n",
       "        <tr>\n",
       "          <td>3</td><td>(25.721340232634518, 28.288379835158725, 21.735951454176682, 18.37655688261631, 16.005488578248027, ...</td>\n",
       "        </tr>\n",
       "        \n",
       "        <tr>\n",
       "          <td>4</td><td>(21.962210580000377, 13.540251930117316, 15.344102080743966, 17.404912120215002, 9.404007524540788, ...</td>\n",
       "        </tr>\n",
       "        \n",
       "        <tr>\n",
       "          <td>5</td><td>(35.573492026842224, 37.67542944438028, 14.002365115049612, 18.616851286305998, 38.757531117038155, ...</td>\n",
       "        </tr>\n",
       "        \n",
       "        <tr>\n",
       "          <td>6</td><td>(26.179757468002354, 21.41723659099916, 15.288766808143356, 3.002269024838096, 26.764283184442007, ....</td>\n",
       "        </tr>\n",
       "        \n",
       "        <tr>\n",
       "          <td>7</td><td>(26.10752199845383, 36.58432606500003, 20.99686589784659, 14.264243819045532, 22.37469623926226, ......</td>\n",
       "        </tr>\n",
       "        \n",
       "        <tr>\n",
       "          <td>8</td><td>(31.85881691395936, 35.90888000248318, 13.575522990880655, 17.539094798738283, 25.024864237248902, ....</td>\n",
       "        </tr>\n",
       "        <tr><td>...</td><td>...</td></tr>\n",
       "        <tr>\n",
       "          <td>9999</td><td>(23.083041236223544, 20.36827908020779, 25.50334878806627, 8.36416960702433, 33.194565653381666, ......</td>\n",
       "        </tr>\n",
       "        \n",
       "      </tbody>\n",
       "    </table>\n",
       "        "
      ],
      "text/plain": [
       "Index Result\n",
       "0     (10.636449668373583, 14.93939579623515, 22.951904277564573, 10.243538257855114, 9.919343228871494, ..., 19.052545335480822)\n",
       "1     (13.336528761041698, 12.510044701481426, 29.34642979569727, 26.28973080930574, 1.3727195823864555, ..., 2.8616466478075466)\n",
       "2     (33.89520024031242, 26.122743200883576, 5.764121648364874, 25.062150923181306, 33.66264911311599, ..., 16.80381574220947)\n",
       "3     (25.721340232634518, 28.288379835158725, 21.735951454176682, 18.37655688261631, 16.005488578248027, ..., 38.97580165895178)\n",
       "4     (21.962210580000377, 13.540251930117316, 15.344102080743966, 17.404912120215002, 9.404007524540788, ..., 22.89278177431741)\n",
       "5     (35.573492026842224, 37.67542944438028, 14.002365115049612, 18.616851286305998, 38.757531117038155, ..., 23.631735036716492)\n",
       "6     (26.179757468002354, 21.41723659099916, 15.288766808143356, 3.002269024838096, 26.764283184442007, ..., 13.106399351815528)\n",
       "7     (26.10752199845383, 36.58432606500003, 20.99686589784659, 14.264243819045532, 22.37469623926226, ..., 25.819267296518944)\n",
       "8     (31.85881691395936, 35.90888000248318, 13.575522990880655, 17.539094798738283, 25.024864237248902, ..., 30.378513558164933)\n",
       "....  .........................................................................................................................\n",
       "9999  (23.083041236223544, 20.36827908020779, 25.50334878806627, 8.36416960702433, 33.194565653381666, ..., 15.074998674770232)"
      ]
     },
     "execution_count": 163,
     "metadata": {},
     "output_type": "execute_result"
    }
   ],
   "source": [
    "ymatrix"
   ]
  },
  {
   "cell_type": "code",
   "execution_count": 164,
   "metadata": {},
   "outputs": [
    {
     "data": {
      "text/html": [
       "\n",
       "    <table>\n",
       "      <thead>\n",
       "        <th width=\"10%\">Index</th>\n",
       "        <th width=\"90%\">Result</th>\n",
       "      </thead>\n",
       "      <tbody>\n",
       "        \n",
       "        <tr>\n",
       "          <td>0</td><td>19.629175862046836</td>\n",
       "        </tr>\n",
       "        \n",
       "        <tr>\n",
       "          <td>1</td><td>19.79727663707073</td>\n",
       "        </tr>\n",
       "        \n",
       "        <tr>\n",
       "          <td>2</td><td>20.926575913002885</td>\n",
       "        </tr>\n",
       "        \n",
       "        <tr>\n",
       "          <td>3</td><td>15.203610623366801</td>\n",
       "        </tr>\n",
       "        \n",
       "        <tr>\n",
       "          <td>4</td><td>18.40109252365617</td>\n",
       "        </tr>\n",
       "        \n",
       "        <tr>\n",
       "          <td>5</td><td>19.41575729759112</td>\n",
       "        </tr>\n",
       "        \n",
       "        <tr>\n",
       "          <td>6</td><td>18.728821806557765</td>\n",
       "        </tr>\n",
       "        \n",
       "        <tr>\n",
       "          <td>7</td><td>20.051850435317444</td>\n",
       "        </tr>\n",
       "        \n",
       "        <tr>\n",
       "          <td>8</td><td>19.442579503371604</td>\n",
       "        </tr>\n",
       "        <tr><td>...</td><td>...</td></tr>\n",
       "        <tr>\n",
       "          <td>9999</td><td>19.794923808132232</td>\n",
       "        </tr>\n",
       "        \n",
       "      </tbody>\n",
       "    </table>\n",
       "        "
      ],
      "text/plain": [
       "Index Result\n",
       "0     19.629175862046836\n",
       "1     19.79727663707073\n",
       "2     20.926575913002885\n",
       "3     15.203610623366801\n",
       "4     18.40109252365617\n",
       "5     19.41575729759112\n",
       "6     18.728821806557765\n",
       "7     20.051850435317444\n",
       "8     19.442579503371604\n",
       "....  ..................\n",
       "9999  19.794923808132232"
      ]
     },
     "execution_count": 164,
     "metadata": {},
     "output_type": "execute_result"
    }
   ],
   "source": [
    "# The 2nd parameter is the mathematical operation applied to each row of the random vector\n",
    "# Simulate 10,000 means of each random vector of 25 uniform distributed numbers: \n",
    "ymean = RV(P,mean).sim(10000)\n",
    "ymean"
   ]
  },
  {
   "cell_type": "code",
   "execution_count": 165,
   "metadata": {},
   "outputs": [
    {
     "data": {
      "image/png": "[encoded data removed]",
      "text/plain": [
       "<Figure size 432x288 with 1 Axes>"
      ]
     },
     "metadata": {
      "needs_background": "light"
     },
     "output_type": "display_data"
    }
   ],
   "source": [
    "plt.clf()\n",
    "ymean.plot()\n",
    "plt.show()"
   ]
  },
  {
   "cell_type": "markdown",
   "metadata": {},
   "source": [
    "2.2.6 CHALLENGE\n",
    "CALCULATE THE MEAN AND STANDARD DEVIATION OF THE ymean VARIABLE. HOW SIMILAR OR DIFFERENT ARE THESE VALUES FROM THE MEAN AND STANDARD DEVIATION OF y?\n",
    "\n",
    "INTERPRET THE ABOVE HISTOGRAM OF THE SAMPLES OF y."
   ]
  },
  {
   "cell_type": "code",
   "execution_count": 166,
   "metadata": {},
   "outputs": [
    {
     "name": "stdout",
     "output_type": "stream",
     "text": [
      "20.035026149757044\n",
      "10.010321562222959\n",
      "20.020481755910772\n",
      "1.9847929093518086\n"
     ]
    }
   ],
   "source": [
    "print(y.mean())\n",
    "print(y.std())\n",
    "print(ymean.mean())\n",
    "print(ymean.std())"
   ]
  },
  {
   "cell_type": "code",
   "execution_count": 167,
   "metadata": {},
   "outputs": [
    {
     "data": {
      "image/png": "[encoded data removed]",
      "text/plain": [
       "<Figure size 432x288 with 1 Axes>"
      ]
     },
     "metadata": {
      "needs_background": "light"
     },
     "output_type": "display_data"
    }
   ],
   "source": [
    "plt.clf()\n",
    "ymean.plot()\n",
    "y.plot()\n",
    "plt.show()"
   ]
  },
  {
   "cell_type": "markdown",
   "metadata": {},
   "source": [
    "A MAYOR NUEMERO DE MUESTRAS MAS TIEDEN A ACERCARCE AL PUNTO CORRESPONDIENTE A LA MEDIA."
   ]
  },
  {
   "cell_type": "markdown",
   "metadata": {},
   "source": [
    "4.1 CHALLENGE\n",
    "\n",
    "Collect real data for Microsoft (MSFT) stock and do a hypothesis testing to see whether the mean of monthly cc returns of Microsoft is greater than zero.\n",
    "\n",
    "You have to do the following:\n",
    "\n",
    "Run a t-test to compare whether the mean return of MSFT is greater than zero.\n",
    "\n",
    "To do a hypothesis test, we usually do the following steps:\n",
    "\n",
    "DEFINE THE VARIABLE OF STUDY. In this case it will be the mean of MSFT cc returns\n",
    "\n",
    "WRITE THE NULL AND THE ALTERNATIVE HYPOTHESIS.\n",
    "\n",
    "CALCULATE THE STANDARD ERROR, WHICH IS THE STANDARD DEVIATION OF THE VARIABLE OF STUDY.\n",
    "\n",
    "CALCULATE THE t-statistic (t-value). EXPLAIN/INTERPRET THE t-statistic.\n",
    "\n",
    "CALCULATE THE 95% CONFIDENCE INTERVAL OF THE SAMPLE MEAN\n",
    "\n",
    "WRITE YOUR CONCLUSION OF THE t-TEST"
   ]
  },
  {
   "cell_type": "markdown",
   "metadata": {},
   "source": [
    "H0: EL RETORNO MEDIO ES IGUAL O MENOR A CERO.\n",
    "\n",
    "Ha: EL RETORNO MEDIO ES MAYOR A CERO."
   ]
  },
  {
   "cell_type": "code",
   "execution_count": 168,
   "metadata": {},
   "outputs": [
    {
     "data": {
      "text/html": [
       "<div>\n",
       "<style scoped>\n",
       "    .dataframe tbody tr th:only-of-type {\n",
       "        vertical-align: middle;\n",
       "    }\n",
       "\n",
       "    .dataframe tbody tr th {\n",
       "        vertical-align: top;\n",
       "    }\n",
       "\n",
       "    .dataframe thead th {\n",
       "        text-align: right;\n",
       "    }\n",
       "</style>\n",
       "<table border=\"1\" class=\"dataframe\">\n",
       "  <thead>\n",
       "    <tr style=\"text-align: right;\">\n",
       "      <th></th>\n",
       "      <th>High</th>\n",
       "      <th>Low</th>\n",
       "      <th>Open</th>\n",
       "      <th>Close</th>\n",
       "      <th>Volume</th>\n",
       "      <th>Adj Close</th>\n",
       "    </tr>\n",
       "    <tr>\n",
       "      <th>Date</th>\n",
       "      <th></th>\n",
       "      <th></th>\n",
       "      <th></th>\n",
       "      <th></th>\n",
       "      <th></th>\n",
       "      <th></th>\n",
       "    </tr>\n",
       "  </thead>\n",
       "  <tbody>\n",
       "    <tr>\n",
       "      <th>2017-01-03</th>\n",
       "      <td>62.840000</td>\n",
       "      <td>62.130001</td>\n",
       "      <td>62.790001</td>\n",
       "      <td>62.580002</td>\n",
       "      <td>20694100.0</td>\n",
       "      <td>57.930527</td>\n",
       "    </tr>\n",
       "    <tr>\n",
       "      <th>2017-01-04</th>\n",
       "      <td>62.750000</td>\n",
       "      <td>62.119999</td>\n",
       "      <td>62.480000</td>\n",
       "      <td>62.299999</td>\n",
       "      <td>21340000.0</td>\n",
       "      <td>57.671326</td>\n",
       "    </tr>\n",
       "    <tr>\n",
       "      <th>2017-01-05</th>\n",
       "      <td>62.660000</td>\n",
       "      <td>62.029999</td>\n",
       "      <td>62.189999</td>\n",
       "      <td>62.299999</td>\n",
       "      <td>24876000.0</td>\n",
       "      <td>57.671326</td>\n",
       "    </tr>\n",
       "    <tr>\n",
       "      <th>2017-01-06</th>\n",
       "      <td>63.150002</td>\n",
       "      <td>62.040001</td>\n",
       "      <td>62.299999</td>\n",
       "      <td>62.840000</td>\n",
       "      <td>19922900.0</td>\n",
       "      <td>58.171204</td>\n",
       "    </tr>\n",
       "    <tr>\n",
       "      <th>2017-01-09</th>\n",
       "      <td>63.080002</td>\n",
       "      <td>62.540001</td>\n",
       "      <td>62.759998</td>\n",
       "      <td>62.639999</td>\n",
       "      <td>20382700.0</td>\n",
       "      <td>57.986065</td>\n",
       "    </tr>\n",
       "    <tr>\n",
       "      <th>...</th>\n",
       "      <td>...</td>\n",
       "      <td>...</td>\n",
       "      <td>...</td>\n",
       "      <td>...</td>\n",
       "      <td>...</td>\n",
       "      <td>...</td>\n",
       "    </tr>\n",
       "    <tr>\n",
       "      <th>2022-08-08</th>\n",
       "      <td>285.920013</td>\n",
       "      <td>279.320007</td>\n",
       "      <td>284.049988</td>\n",
       "      <td>280.320007</td>\n",
       "      <td>18739200.0</td>\n",
       "      <td>280.320007</td>\n",
       "    </tr>\n",
       "    <tr>\n",
       "      <th>2022-08-09</th>\n",
       "      <td>283.079987</td>\n",
       "      <td>277.609985</td>\n",
       "      <td>279.640015</td>\n",
       "      <td>282.299988</td>\n",
       "      <td>23405200.0</td>\n",
       "      <td>282.299988</td>\n",
       "    </tr>\n",
       "    <tr>\n",
       "      <th>2022-08-10</th>\n",
       "      <td>289.809998</td>\n",
       "      <td>286.940002</td>\n",
       "      <td>288.170013</td>\n",
       "      <td>289.160004</td>\n",
       "      <td>24687800.0</td>\n",
       "      <td>289.160004</td>\n",
       "    </tr>\n",
       "    <tr>\n",
       "      <th>2022-08-11</th>\n",
       "      <td>291.209991</td>\n",
       "      <td>286.510010</td>\n",
       "      <td>290.850006</td>\n",
       "      <td>287.019989</td>\n",
       "      <td>20065900.0</td>\n",
       "      <td>287.019989</td>\n",
       "    </tr>\n",
       "    <tr>\n",
       "      <th>2022-08-12</th>\n",
       "      <td>291.910004</td>\n",
       "      <td>286.940002</td>\n",
       "      <td>288.480011</td>\n",
       "      <td>291.910004</td>\n",
       "      <td>22601900.0</td>\n",
       "      <td>291.910004</td>\n",
       "    </tr>\n",
       "  </tbody>\n",
       "</table>\n",
       "<p>1413 rows × 6 columns</p>\n",
       "</div>"
      ],
      "text/plain": [
       "                  High         Low        Open       Close      Volume  \\\n",
       "Date                                                                     \n",
       "2017-01-03   62.840000   62.130001   62.790001   62.580002  20694100.0   \n",
       "2017-01-04   62.750000   62.119999   62.480000   62.299999  21340000.0   \n",
       "2017-01-05   62.660000   62.029999   62.189999   62.299999  24876000.0   \n",
       "2017-01-06   63.150002   62.040001   62.299999   62.840000  19922900.0   \n",
       "2017-01-09   63.080002   62.540001   62.759998   62.639999  20382700.0   \n",
       "...                ...         ...         ...         ...         ...   \n",
       "2022-08-08  285.920013  279.320007  284.049988  280.320007  18739200.0   \n",
       "2022-08-09  283.079987  277.609985  279.640015  282.299988  23405200.0   \n",
       "2022-08-10  289.809998  286.940002  288.170013  289.160004  24687800.0   \n",
       "2022-08-11  291.209991  286.510010  290.850006  287.019989  20065900.0   \n",
       "2022-08-12  291.910004  286.940002  288.480011  291.910004  22601900.0   \n",
       "\n",
       "             Adj Close  \n",
       "Date                    \n",
       "2017-01-03   57.930527  \n",
       "2017-01-04   57.671326  \n",
       "2017-01-05   57.671326  \n",
       "2017-01-06   58.171204  \n",
       "2017-01-09   57.986065  \n",
       "...                ...  \n",
       "2022-08-08  280.320007  \n",
       "2022-08-09  282.299988  \n",
       "2022-08-10  289.160004  \n",
       "2022-08-11  287.019989  \n",
       "2022-08-12  291.910004  \n",
       "\n",
       "[1413 rows x 6 columns]"
      ]
     },
     "execution_count": 168,
     "metadata": {},
     "output_type": "execute_result"
    }
   ],
   "source": [
    "import pandas_datareader as pdr\n",
    "MSFT = pdr.get_data_yahoo('MSFT',\n",
    "start=\"01/01/2017\", interval=\"d\")\n",
    "MSFT"
   ]
  },
  {
   "cell_type": "code",
   "execution_count": 169,
   "metadata": {},
   "outputs": [],
   "source": [
    "MSFT[\"r\"] = np.log(MSFT['Adj Close']) - np.log(MSFT['Adj Close'].shift(1))\n",
    "MSFTR = MSFT[['r']].copy()\n",
    "MSFT=MSFT.dropna()"
   ]
  },
  {
   "cell_type": "code",
   "execution_count": 170,
   "metadata": {},
   "outputs": [
    {
     "data": {
      "text/plain": [
       "count    1412.000000\n",
       "mean        0.001145\n",
       "std         0.017887\n",
       "min        -0.159453\n",
       "25%        -0.006213\n",
       "50%         0.001378\n",
       "75%         0.010191\n",
       "max         0.132929\n",
       "Name: r, dtype: float64"
      ]
     },
     "execution_count": 170,
     "metadata": {},
     "output_type": "execute_result"
    }
   ],
   "source": [
    "sumret = MSFT[\"r\"].describe()\n",
    "sumret"
   ]
  },
  {
   "cell_type": "code",
   "execution_count": 171,
   "metadata": {},
   "outputs": [
    {
     "data": {
      "text/plain": [
       "0.00047600205946094664"
      ]
     },
     "execution_count": 171,
     "metadata": {},
     "output_type": "execute_result"
    }
   ],
   "source": [
    "std = sumret['std'] / sqrt(len(MSFT))\n",
    "std"
   ]
  },
  {
   "cell_type": "code",
   "execution_count": 172,
   "metadata": {},
   "outputs": [
    {
     "name": "stdout",
     "output_type": "stream",
     "text": [
      "0.00047600205946094664\n",
      "0.0009520041189218933\n",
      "0.0011453265371635423\n"
     ]
    },
    {
     "data": {
      "text/plain": [
       "True"
      ]
     },
     "execution_count": 172,
     "metadata": {},
     "output_type": "execute_result"
    }
   ],
   "source": [
    "print(std)\n",
    "print(std * 2)\n",
    "print(sumret['mean'])\n",
    "sumret['mean'] >= 0 + std * 2"
   ]
  },
  {
   "cell_type": "markdown",
   "metadata": {},
   "source": [
    "DE LOS DATOS RECOLETADOS DEL CC RETURN DE MSFT OBTUVE QUE LA MEDIA ES DE 0.001145 Y LA DESVIACION ESTANDAR DE LOS INDIVIDUOS DE LA MUESTRA ES DE 0.017887, AL DIVIDIR LA DESVIACION ESTANDAR DE LOS INDIVIDUOS DE LA MUESTRA POR LA RAIZ CUADRADA DE LA MUESTRA OBTUVE QUE LA DESVIACION ESTANDAR DE LA MUESTRA ES DE 0.000476. AL SER LA MEDIA (0.0011345) MAYOR A LA DESVIACION ESTANDAR DE LA MUESTRA (0.000952) PODEMOS CONCLUIR CON UN 95% DE SEGURIDAD QUE EL CC RETURN DE MSFT ES MAYOR A 0"
   ]
  }
 ],
 "metadata": {
  "kernelspec": {
   "display_name": "Python 3.10.5 64-bit",
   "language": "python",
   "name": "python3"
  },
  "language_info": {
   "codemirror_mode": {
    "name": "ipython",
    "version": 3
   },
   "file_extension": ".py",
   "mimetype": "text/x-python",
   "name": "python",
   "nbconvert_exporter": "python",
   "pygments_lexer": "ipython3",
   "version": "3.10.5"
  },
  "orig_nbformat": 4,
  "vscode": {
   "interpreter": {
    "hash": "916dbcbb3f70747c44a77c7bcd40155683ae19c65e1c03b4aa3499c5328201f1"
   }
  }
 },
 "nbformat": 4,
 "nbformat_minor": 2
}
